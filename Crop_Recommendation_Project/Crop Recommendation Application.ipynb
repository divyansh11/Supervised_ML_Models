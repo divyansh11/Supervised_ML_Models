{
 "cells": [
  {
   "cell_type": "code",
   "execution_count": 1,
   "id": "a24138b1",
   "metadata": {},
   "outputs": [],
   "source": [
    "import pandas as pd \n",
    "import numpy as np\n",
    "from matplotlib import pyplot as plt\n",
    "import seaborn as sns"
   ]
  },
  {
   "cell_type": "code",
   "execution_count": 2,
   "id": "3cfae308",
   "metadata": {},
   "outputs": [],
   "source": [
    "df=pd.read_csv('Crop_recommendation.csv')"
   ]
  },
  {
   "cell_type": "code",
   "execution_count": null,
   "id": "acdc126d",
   "metadata": {},
   "outputs": [],
   "source": [
    "df.head()"
   ]
  },
  {
   "cell_type": "code",
   "execution_count": null,
   "id": "10c1b313",
   "metadata": {},
   "outputs": [],
   "source": [
    "# To check the distribution of dataset\n",
    "df.describe()"
   ]
  },
  {
   "cell_type": "code",
   "execution_count": null,
   "id": "d3288365",
   "metadata": {},
   "outputs": [],
   "source": [
    "# To check null values\n",
    "df.isnull().sum()"
   ]
  },
  {
   "cell_type": "code",
   "execution_count": null,
   "id": "50808442",
   "metadata": {},
   "outputs": [],
   "source": [
    "items={'rice':1,'maize':2,'jute':3,'cotton':4,'coconut':5,'papaya':6,'orange':7,'apple':8,'muskmelon':9,\n",
    "                            'watermelon':10,'grapes':11,'mango':12,'banana':13,'pomegranate':14,'lentil':15,'blackgram':16,\n",
    "                            'mungbean':17,'mothbeans':18,'pigeonpeas':19,'kidneybeans':20,'chickpea':21,'coffee':22}"
   ]
  },
  {
   "cell_type": "code",
   "execution_count": null,
   "id": "f56adbaa",
   "metadata": {},
   "outputs": [],
   "source": [
    "# Encoding the label values\n",
    "df['label']=df['label'].map(items)"
   ]
  },
  {
   "cell_type": "code",
   "execution_count": null,
   "id": "df4cc11a",
   "metadata": {},
   "outputs": [],
   "source": [
    "x=df.drop('label',axis=1)\n",
    "y=df['label']"
   ]
  },
  {
   "cell_type": "code",
   "execution_count": null,
   "id": "ac16a046",
   "metadata": {},
   "outputs": [],
   "source": [
    "from sklearn.model_selection import train_test_split\n",
    "x_train,x_test,y_train,y_test=train_test_split(x,y,test_size=0.2,random_state=42)"
   ]
  },
  {
   "cell_type": "code",
   "execution_count": null,
   "id": "2f1bbecb",
   "metadata": {},
   "outputs": [],
   "source": [
    "#MinMax Scaller\n",
    "from sklearn.preprocessing import MinMaxScaler\n",
    "mm=MinMaxScaler()\n",
    "mm.fit(x_train)\n",
    "x_train=mm.transform(x_train)\n",
    "x_test=mm.transform(x_test)"
   ]
  },
  {
   "cell_type": "code",
   "execution_count": null,
   "id": "13d6c859",
   "metadata": {},
   "outputs": [],
   "source": [
    "x_train"
   ]
  },
  {
   "cell_type": "code",
   "execution_count": null,
   "id": "f5fc80b7",
   "metadata": {},
   "outputs": [],
   "source": [
    "# Standard Scalar\n",
    "from sklearn.preprocessing import StandardScaler\n",
    "ss=StandardScaler()\n",
    "ss.fit(x_train)\n",
    "x_train=ss.transform(x_train)\n",
    "x_test=ss.transform(x_test)"
   ]
  },
  {
   "cell_type": "code",
   "execution_count": null,
   "id": "b780014c",
   "metadata": {},
   "outputs": [],
   "source": [
    "# ML Models\n",
    "from sklearn.linear_model import LogisticRegression\n",
    "from sklearn.tree import DecisionTreeClassifier\n",
    "from sklearn.ensemble import RandomForestClassifier\n",
    "from sklearn.ensemble import AdaBoostClassifier\n",
    "from sklearn.ensemble import GradientBoostingClassifier\n",
    "from catboost import CatBoostClassifier\n",
    "from xgboost import XGBClassifier\n",
    "from sklearn.neighbors import KNeighborsClassifier\n",
    "from sklearn.svm import SVC\n",
    "from sklearn.naive_bayes import GaussianNB\n",
    "from sklearn.metrics import accuracy_score,confusion_matrix,ConfusionMatrixDisplay\n",
    "\n",
    "models={\n",
    "    'lg':LogisticRegression(),\n",
    "    'dt':DecisionTreeClassifier(),\n",
    "    'rf':RandomForestClassifier(),\n",
    "    'knn': KNeighborsClassifier(),\n",
    "    'svc':SVC(),\n",
    "    'nb': GaussianNB(),\n",
    "    'cb':CatBoostClassifier(),\n",
    "\n",
    "}"
   ]
  },
  {
   "cell_type": "code",
   "execution_count": null,
   "id": "7450cf77",
   "metadata": {},
   "outputs": [],
   "source": [
    "for name, model in models.items():\n",
    "    model.fit(x_train,y_train)\n",
    "    y_pred=model.predict(x_test)\n",
    "    print(f\"{name} with accuracy +{accuracy_score(y_test,y_pred)}\")"
   ]
  },
  {
   "cell_type": "code",
   "execution_count": null,
   "id": "445b6373",
   "metadata": {},
   "outputs": [],
   "source": [
    "nb= GaussianNB()\n",
    "nb.fit(x_train,y_train)\n",
    "y_pred=nb.predict(x_test)\n",
    "accuracy_score(y_pred,y_test)"
   ]
  },
  {
   "cell_type": "code",
   "execution_count": null,
   "id": "62aa6bea",
   "metadata": {},
   "outputs": [],
   "source": [
    "df.head()"
   ]
  },
  {
   "cell_type": "code",
   "execution_count": null,
   "id": "edd79e91",
   "metadata": {},
   "outputs": [],
   "source": [
    "#Prediction Model\n",
    "\n",
    "def cropPrediction(N,P,K,temp,humd,ph,rainfall):\n",
    "    feat=np.array([[N,P,K,temp,humd,ph,rainfall]])\n",
    "    prediction=nb.predict(feat).reshape(1,-1)\n",
    "    return prediction[0]"
   ]
  },
  {
   "cell_type": "code",
   "execution_count": null,
   "id": "438969fe",
   "metadata": {},
   "outputs": [],
   "source": [
    "k=10\n",
    "p=10\n",
    "k=23\n",
    "temperature=34\n",
    "humidity=23\n",
    "ph=12\n",
    "rainfall=202\n",
    "predict=cropPrediction(k,p,k,temperature,humidity,ph,rainfall)\n",
    "\n",
    "dict_pred= {y: x for x, y in items.items()}  # to revsre the previous dict\n",
    "\n",
    "if predict[0] in dict_pred:\n",
    "    crop=dict_pred[predict[0]]\n",
    "    print(f\"{crop} is the best crop to be culticated\")\n",
    "else:\n",
    "    print(\"Sorry, I don't have answer for these\")"
   ]
  },
  {
   "cell_type": "code",
   "execution_count": null,
   "id": "09be939f",
   "metadata": {},
   "outputs": [],
   "source": [
    "import pickle\n",
    "pickle.dump(nb,open('model.pkl','wb'))"
   ]
  },
  {
   "cell_type": "code",
   "execution_count": null,
   "id": "2a155316",
   "metadata": {},
   "outputs": [],
   "source": [
    "dict_pred= {y: x for x, y in items.items()} "
   ]
  },
  {
   "cell_type": "code",
   "execution_count": null,
   "id": "a306fe2a",
   "metadata": {},
   "outputs": [],
   "source": [
    "dict_pred"
   ]
  },
  {
   "cell_type": "code",
   "execution_count": 3,
   "id": "0c8a4891",
   "metadata": {},
   "outputs": [],
   "source": [
    "import pygwalker as pyg"
   ]
  },
  {
   "cell_type": "code",
   "execution_count": 4,
   "id": "a21f2cdf",
   "metadata": {},
   "outputs": [
    {
     "data": {
      "application/vnd.jupyter.widget-view+json": {
       "model_id": "73016ccaeec2424e954a140a915551be",
       "version_major": 2,
       "version_minor": 0
      },
      "text/plain": [
       "Box(children=(HTML(value='\\n<div id=\"ifr-pyg-00061e3492a3eecbenTNzCDVgGbJflky\" style=\"height: auto\">\\n    <hea…"
      ]
     },
     "metadata": {},
     "output_type": "display_data"
    },
    {
     "data": {
      "text/html": [],
      "text/plain": [
       "<IPython.core.display.HTML object>"
      ]
     },
     "metadata": {},
     "output_type": "display_data"
    },
    {
     "data": {
      "text/plain": [
       "<pygwalker.api.pygwalker.PygWalker at 0x23393f08ce0>"
      ]
     },
     "execution_count": 4,
     "metadata": {},
     "output_type": "execute_result"
    }
   ],
   "source": [
    "pyg.walk(df)"
   ]
  },
  {
   "cell_type": "code",
   "execution_count": null,
   "id": "992ecd1e",
   "metadata": {},
   "outputs": [],
   "source": []
  }
 ],
 "metadata": {
  "kernelspec": {
   "display_name": "Python 3 (ipykernel)",
   "language": "python",
   "name": "python3"
  },
  "language_info": {
   "codemirror_mode": {
    "name": "ipython",
    "version": 3
   },
   "file_extension": ".py",
   "mimetype": "text/x-python",
   "name": "python",
   "nbconvert_exporter": "python",
   "pygments_lexer": "ipython3",
   "version": "3.12.3"
  }
 },
 "nbformat": 4,
 "nbformat_minor": 5
}
